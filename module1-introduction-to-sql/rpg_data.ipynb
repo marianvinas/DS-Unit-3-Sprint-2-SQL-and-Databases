{
 "cells": [
  {
   "cell_type": "code",
   "execution_count": 2,
   "metadata": {},
   "outputs": [],
   "source": [
    "import sqlite3"
   ]
  },
  {
   "cell_type": "code",
   "execution_count": 5,
   "metadata": {},
   "outputs": [
    {
     "name": "stdout",
     "output_type": "stream",
     "text": [
      "<sqlite3.Connection object at 0x7fbc95c2ff10>\n"
     ]
    }
   ],
   "source": [
    "DB_FILEPATH = 'rpg_db.sqlite3'\n",
    "conn = sqlite3.connect(DB_FILEPATH)\n",
    "print(conn)"
   ]
  },
  {
   "cell_type": "code",
   "execution_count": 6,
   "metadata": {},
   "outputs": [
    {
     "name": "stdout",
     "output_type": "stream",
     "text": [
      "<sqlite3.Cursor object at 0x7fbc95cb62d0>\n"
     ]
    }
   ],
   "source": [
    "cursor = conn.cursor()\n",
    "print(cursor)"
   ]
  },
  {
   "cell_type": "code",
   "execution_count": 21,
   "metadata": {},
   "outputs": [
    {
     "name": "stdout",
     "output_type": "stream",
     "text": [
      "(302,)\n"
     ]
    }
   ],
   "source": [
    "# How many total Characters are there?\n",
    "query1 = '''\n",
    "SELECT\n",
    "  COUNT(*)\n",
    "FROM charactercreator_character'''\n",
    "\n",
    "result1 = cursor.execute(query1).fetchone()\n",
    "print(result1)"
   ]
  },
  {
   "cell_type": "code",
   "execution_count": 22,
   "metadata": {},
   "outputs": [
    {
     "name": "stdout",
     "output_type": "stream",
     "text": [
      "('Aliquid iste optio reiciendi', 0, 0)\n"
     ]
    }
   ],
   "source": [
    "# How many of each specific subclass?\n",
    "query2 = '''\n",
    "SELECT\n",
    "  name,\n",
    "  level,\n",
    "  exp\n",
    "FROM charactercreator_character\n",
    "'''\n",
    "\n",
    "result2 = cursor.execute(query2).fetchone()\n",
    "print(result2)"
   ]
  },
  {
   "cell_type": "code",
   "execution_count": 23,
   "metadata": {},
   "outputs": [
    {
     "name": "stdout",
     "output_type": "stream",
     "text": [
      "(174,)\n"
     ]
    }
   ],
   "source": [
    "# How many total Items?\n",
    "query3 = '''\n",
    "SELECT\n",
    "  COUNT(*)\n",
    "FROM armory_item'''\n",
    "\n",
    "result3 = cursor.execute(query3).fetchone()\n",
    "print(result3)"
   ]
  },
  {
   "cell_type": "code",
   "execution_count": 27,
   "metadata": {},
   "outputs": [
    {
     "name": "stdout",
     "output_type": "stream",
     "text": [
      "(14, 5, 145, 145, 0)\n"
     ]
    }
   ],
   "source": [
    "# How many of the Items are weapons? How many are not?\n",
    "query4 = '''\n",
    "SELECT *\n",
    "FROM charactercreator_character_inventory as cci\n",
    "JOIN armory_weapon AS aw ON cci.item_id == aw.item_ptr_id \n",
    "\n",
    "'''\n",
    "\n",
    "result4 = cursor.execute(query4).fetchone()\n",
    "print(result4)"
   ]
  },
  {
   "cell_type": "code",
   "execution_count": 37,
   "metadata": {},
   "outputs": [
    {
     "name": "stdout",
     "output_type": "stream",
     "text": [
      "(1, 1, 58, 58, 'Quos re', 0, 0)\n"
     ]
    }
   ],
   "source": [
    "# How many Items does each character have? (Return first 20 rows)\n",
    "query5 = '''\n",
    "SELECT *\n",
    "FROM charactercreator_character_inventory as cci\n",
    "JOIN armory_item AS ai ON cci.item_id == ai.item_id\n",
    "'''\n",
    "\n",
    "result5 = cursor.execute(query5).fetchone()\n",
    "print(result5)"
   ]
  },
  {
   "cell_type": "code",
   "execution_count": 34,
   "metadata": {},
   "outputs": [
    {
     "name": "stdout",
     "output_type": "stream",
     "text": [
      "(14, 5, 145, 145, 0)\n"
     ]
    }
   ],
   "source": [
    "# How many Weapons does each character have? (Return first 20 rows)\n",
    "query6 = '''\n",
    "SELECT *\n",
    "FROM charactercreator_character_inventory as cci\n",
    "JOIN armory_weapon AS aw ON cci.item_id == aw.item_ptr_id\n",
    "'''\n",
    "\n",
    "result6 = cursor.execute(query6).fetchone()\n",
    "print(result6)"
   ]
  },
  {
   "cell_type": "code",
   "execution_count": 38,
   "metadata": {},
   "outputs": [
    {
     "name": "stdout",
     "output_type": "stream",
     "text": [
      "(0.6721854304635762,)\n"
     ]
    }
   ],
   "source": [
    "# How many Weapons does each character have? (Return first 20 rows)\n",
    "query7 = '''\n",
    "SELECT AVG(Weapon_Count) as Average_Weapons\n",
    "FROM (\n",
    "\tSELECT\n",
    "\t  cci.character_id,\n",
    "\t  -- cci.item_id,\n",
    "\t  COUNT(aw.item_ptr_id) as Weapon_Count\n",
    "\tFROM charactercreator_character_inventory as cci\n",
    "\tLEFT JOIN armory_weapon AS aw ON cci.item_id == aw.item_ptr_id\n",
    "\tGROUP BY cci.character_id\n",
    ")\n",
    "'''\n",
    "\n",
    "result7 = cursor.execute(query7).fetchone()\n",
    "print(result7)"
   ]
  },
  {
   "cell_type": "code",
   "execution_count": 39,
   "metadata": {},
   "outputs": [
    {
     "name": "stdout",
     "output_type": "stream",
     "text": [
      "(2.9735099337748343,)\n"
     ]
    }
   ],
   "source": [
    "# On average, how many Items does each Character have?\n",
    "query8 = '''\n",
    "SELECT AVG(Items_Count) as Average_Items\n",
    "FROM (\n",
    "\tSELECT\n",
    "\t  cci.character_id,\n",
    "\t  COUNT(ai.item_id) as Items_Count\n",
    "\tFROM charactercreator_character_inventory as cci\n",
    "\tLEFT JOIN armory_item AS ai ON cci.item_id == ai.item_id\n",
    "\tGROUP BY cci.character_id\n",
    ") \n",
    "\n",
    "'''\n",
    "\n",
    "result8 = cursor.execute(query8).fetchone()\n",
    "print(result8)"
   ]
  },
  {
   "cell_type": "code",
   "execution_count": null,
   "metadata": {},
   "outputs": [],
   "source": []
  }
 ],
 "metadata": {
  "kernelspec": {
   "display_name": "Python 3",
   "language": "python",
   "name": "python3"
  },
  "language_info": {
   "codemirror_mode": {
    "name": "ipython",
    "version": 3
   },
   "file_extension": ".py",
   "mimetype": "text/x-python",
   "name": "python",
   "nbconvert_exporter": "python",
   "pygments_lexer": "ipython3",
   "version": "3.7.6"
  }
 },
 "nbformat": 4,
 "nbformat_minor": 4
}
